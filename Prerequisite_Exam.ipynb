{
 "cells": [
  {
   "cell_type": "raw",
   "id": "46406fab-955a-466d-93b0-f57f0c95e76c",
   "metadata": {},
   "source": [
    "Q1) How many multiplications and additions do you need to perform a matrix multiplication between a (n, k) and (k, m) matrix? Explain."
   ]
  },
  {
   "cell_type": "raw",
   "id": "0a212b00-3457-4c60-b249-91a388480ad1",
   "metadata": {},
   "source": [
    "A1) In a matrix multiplication of (n, k) and (k, m) matrices, the resulting matrix will have dimensions (n, m). \n",
    "\n",
    "    Each cell in the resultant (n, m) matrix is made by adding k multiplications. \n",
    "\n",
    "    Therefore, the total number of multiplications to multiply the 2 matrices is k * n * m.\n",
    "    In each cell, to add k different multiplications, (k - 1) additions are needed. \n",
    "\n",
    "    Therefore, the total number of additions to multiply the 2 matrices is (k - 1) * n * m. "
   ]
  },
  {
   "cell_type": "raw",
   "id": "1490105b-c248-4333-9ae1-e488983c3f5b",
   "metadata": {},
   "source": [
    "Q2) Write Python code to multiply the above two matrices. Solve using list of lists and then use numpy. Compare the timing of both solutions. Which one is faster? Why?"
   ]
  },
  {
   "cell_type": "code",
   "execution_count": 21,
   "id": "d006cdd7-50a6-419a-b862-11f72f5994d1",
   "metadata": {},
   "outputs": [
    {
     "name": "stdin",
     "output_type": "stream",
     "text": [
      " 3\n",
      " 3\n",
      " 4\n",
      " 1 2 3\n",
      " 4 5 6\n",
      " 7 8 9\n",
      " 1 2 3 4\n",
      " 3 4 5 6\n",
      " 5 6 7 8\n"
     ]
    },
    {
     "name": "stdout",
     "output_type": "stream",
     "text": [
      "22 28 34 40 \n",
      "49 64 79 94 \n",
      "76 100 124 148 \n",
      "CPU times: total: 62.5 ms\n",
      "Wall time: 19.2 s\n"
     ]
    }
   ],
   "source": [
    "%%time\n",
    "# A2) Code using list of lists\n",
    "# Taking inputs for n, k and m\n",
    "n = int(input())\n",
    "k = int(input())\n",
    "m = int(input())\n",
    "\n",
    "arr1 = []\n",
    "arr2 = []\n",
    "arr = []\n",
    "# Taking input of first array\n",
    "for i in range(n):\n",
    "    lst = list(map(int, input().split()))\n",
    "    arr1.append(lst)\n",
    "# Taking input of second array\n",
    "for i in range(k):\n",
    "    lst = list(map(int, input().split()))\n",
    "    arr2.append(lst)\n",
    "# Creating an array of zeroes for the resultant\n",
    "for i in range(n):\n",
    "    arr.append([0] * m)\n",
    "\n",
    "# Three nested loops to do the actual multiplications and additions\n",
    "for i in range(n):\n",
    "    for j in range(m):\n",
    "        lst = 0\n",
    "        for l in range(k):\n",
    "            lst += arr1[i][l] * arr2[l][j]\n",
    "        arr[i][j] = lst\n",
    "\n",
    "# To print the resultant array\n",
    "for i in range(n):\n",
    "    for j in range(m):\n",
    "        print(arr[i][j], end = ' ')\n",
    "    print()\n"
   ]
  },
  {
   "cell_type": "code",
   "execution_count": 22,
   "id": "0c9984fb-d571-4e89-8f17-c024b860c412",
   "metadata": {},
   "outputs": [
    {
     "name": "stdin",
     "output_type": "stream",
     "text": [
      " 3\n",
      " 3\n",
      " 4\n",
      " 1 2 3\n",
      " 4 5 6\n",
      " 7 8 9\n",
      " 1 2 3 4\n",
      " 3 4 5 6\n",
      " 5 6 7 8\n"
     ]
    },
    {
     "name": "stdout",
     "output_type": "stream",
     "text": [
      "22 28 34 40 \n",
      "49 64 79 94 \n",
      "76 100 124 148 \n",
      "CPU times: total: 46.9 ms\n",
      "Wall time: 13.2 s\n"
     ]
    }
   ],
   "source": [
    "%%time\n",
    "# A2) Code using numpy\n",
    "import numpy as np\n",
    "\n",
    "# Taking inputs of n, k and m\n",
    "n = int(input())\n",
    "k = int(input())\n",
    "m = int(input())\n",
    "\n",
    "arr1 = []\n",
    "arr2 = []\n",
    "# Taking input of first array\n",
    "for i in range(n):\n",
    "    lst = list(map(int, input().split()))\n",
    "    arr1.append(lst)\n",
    "# Taking input of second array\n",
    "for i in range(k):\n",
    "    lst = list(map(int, input().split()))\n",
    "    arr2.append(lst)\n",
    "\n",
    "# Using numpy to get resultant\n",
    "arr = np.dot(arr1, arr2)\n",
    "\n",
    "# To print the resultant array\n",
    "for i in range(n):\n",
    "    for j in range(m):\n",
    "        print(arr[i][j], end = ' ')\n",
    "    print()\n",
    "\n"
   ]
  },
  {
   "cell_type": "raw",
   "id": "b3a4faf2-3906-4be4-8933-542c76d26713",
   "metadata": {},
   "source": [
    "A2) The list of lists code took 62.5 ms while the numpy code took 46.9 ms. The time using numpy is faster than the time using normal lists of lists. This is because numpy arrays are all stored together and the memory is moved faster. Lists are stored in random locations. "
   ]
  },
  {
   "cell_type": "raw",
   "id": "dd90cecd-99f7-4e24-b4f6-00dc2edc4ef0",
   "metadata": {},
   "source": [
    "\n",
    "\n",
    "\n",
    "\n",
    "\n",
    "\n",
    "\n",
    "\n",
    "\n",
    "\n"
   ]
  },
  {
   "cell_type": "raw",
   "id": "33730886-ff47-4f8a-9b2c-d1a1844929bc",
   "metadata": {},
   "source": [
    "Q3) Finding the highest element in a list requires one pass of the array. Finding the second highest element requires 2 passes of the the array. Using this method, what is the time complexity of finding the median of the array? Can you suggest a better method? Can you implement both these methods in Python and compare against numpy.median routine in terms of time?"
   ]
  },
  {
   "cell_type": "raw",
   "id": "27ff696a-9b8e-4de0-a746-d8ffe5367a40",
   "metadata": {},
   "source": [
    "A3) The median element is the n/2 largest element in the array. So, it needs n/2 traversals of the array to find the median. Each traversal requires n operations. So, the time complexity of the method is (n/2) * n = O(n^2)\n",
    "\n",
    "A better method to find the median is to first sort the array and then get the middle element as the median. The time complexity of this solution is O(nlogn) +O(n) = O(nlogn)"
   ]
  },
  {
   "cell_type": "code",
   "execution_count": 14,
   "id": "996d0460-aa0b-404a-b8b0-9fa581067dca",
   "metadata": {},
   "outputs": [
    {
     "name": "stdin",
     "output_type": "stream",
     "text": [
      " 1 2 2 3 4 5 6\n"
     ]
    },
    {
     "name": "stdout",
     "output_type": "stream",
     "text": [
      "3\n",
      "CPU times: total: 31.2 ms\n",
      "Wall time: 4.95 s\n"
     ]
    }
   ],
   "source": [
    "%%time\n",
    "# A3) Inefficient method of finding median\n",
    "arr = list(map(int, input().split()))\n",
    "n = len(arr)\n",
    "# Two different approaches for odd and even\n",
    "if n%2 == 1:\n",
    "    # First double loop removes n//2 highest elements leaving the median to be the highest element\n",
    "    for i in range(n//2):\n",
    "        maxi =  0\n",
    "        for j in range(len(arr)):\n",
    "            if arr[j] >= maxi:\n",
    "                maxi = arr[j]\n",
    "        arr.remove(maxi)\n",
    "    # This loop returns the highest element\n",
    "    maxi = 0\n",
    "    for i in range(len(arr)):\n",
    "        if arr[i] >= maxi:\n",
    "            maxi = arr[i]\n",
    "    print(maxi)\n",
    "# The idea for even is similiar. \n",
    "else:\n",
    "    for i in range(n//2 - 1):\n",
    "        maxi =  0\n",
    "        for j in range(len(arr)):\n",
    "            if arr[j] >= maxi:\n",
    "                maxi = arr[j]\n",
    "        arr.remove(maxi)\n",
    "    max1 = 0\n",
    "    for i in range(len(arr)):\n",
    "        if arr[i] >= max1:\n",
    "            max1 = arr[i]\n",
    "        arr.remove(max1)\n",
    "    max2 = 0\n",
    "    for i in range(len(arr)):\n",
    "        if arr[i] >= max2:\n",
    "            max2 = arr[i]\n",
    "    print((max1 + max2)/2)\n",
    "        \n"
   ]
  },
  {
   "cell_type": "code",
   "execution_count": 13,
   "id": "2bac56a3-85d4-4226-a804-34aaeb520155",
   "metadata": {},
   "outputs": [
    {
     "name": "stdin",
     "output_type": "stream",
     "text": [
      " 1 2 3 4 5\n"
     ]
    },
    {
     "name": "stdout",
     "output_type": "stream",
     "text": [
      "3\n",
      "CPU times: total: 15.6 ms\n",
      "Wall time: 2.35 s\n"
     ]
    }
   ],
   "source": [
    "%%time\n",
    "# A3) Efficient method using sort\n",
    "arr = list(map(int, input().split()))\n",
    "# sort array and do the required to get median according evenand odd\n",
    "arr.sort()\n",
    "n = len(arr)\n",
    "if n%2 == 1:\n",
    "    median = arr[n//2]\n",
    "    print(median)\n",
    "else:\n",
    "    median = arr[n//2 - 1] + arr[n//2]\n",
    "    print(median)\n"
   ]
  },
  {
   "cell_type": "code",
   "execution_count": 15,
   "id": "6efac3b1-1d30-42da-8f0b-56ebbf1f2f0d",
   "metadata": {},
   "outputs": [
    {
     "name": "stdin",
     "output_type": "stream",
     "text": [
      " 1 2 3 4 5\n"
     ]
    },
    {
     "name": "stdout",
     "output_type": "stream",
     "text": [
      "3.0\n",
      "CPU times: total: 219 ms\n",
      "Wall time: 3.46 s\n"
     ]
    }
   ],
   "source": [
    "%%time\n",
    "# A3) Numpy method direct function\n",
    "import numpy as np\n",
    "arr = list(map(int, input().split()))\n",
    "median = np.median(arr)\n",
    "print(median)"
   ]
  },
  {
   "cell_type": "raw",
   "id": "5cfeb486-a3b3-4f3e-924a-3b9774d9a650",
   "metadata": {},
   "source": [
    "A3) The numpy method and the sort method are more efficient than the brute force method due to difference in time complexity. The numpy method is slightly slower than the sort method, the reason is not known to me. Maybe this is happening due to the numpy method being optimized for large arrays. "
   ]
  },
  {
   "cell_type": "markdown",
   "id": "a3b1b804-e83e-4520-a8e8-8235d23f92d8",
   "metadata": {},
   "source": [
    "Q4) What is the gradient of the following function with respect to x and y? \n",
    "    $$ x^2y + y^3sin(x)$$"
   ]
  },
  {
   "cell_type": "markdown",
   "id": "6fd56e8b-a8b9-49e5-a152-a96d044077a7",
   "metadata": {},
   "source": [
    "A4) The gradient of a function $ f(x, y) = x^2y + y^3sin(x) $ can be calculated by taking Partial Derivatives wrt x and y and finding the final vector. \n",
    "$$ \\therefore \\text{Gradient of}  f(x, y) = \\frac{\\partial f}{\\partial x}\\hat{i} +  \\frac{\\partial f}{\\partial y}\\hat{j} $$\n",
    "$$ \\frac{\\partial f}{\\partial x} = 2xy + y^3cos(x)$$\n",
    "$$ \\frac{\\partial f}{\\partial y} = x^2 + 3y^2sin(x)$$\n",
    "$$ \\therefore \\text{Gradient of}  f(x, y) = (2xy + y^3cos(x))\\hat{i} + (x^2 + 3y^2sin(x))\\hat{j} $$"
   ]
  },
  {
   "cell_type": "raw",
   "id": "36c5c3fb-acfd-4a2b-bbd5-3ae4caa80538",
   "metadata": {},
   "source": [
    "Q5) Use JAX to confirm the gradient evaluated by your method matches the analytical solution corresponding to a few random values of x and y. "
   ]
  },
  {
   "cell_type": "code",
   "execution_count": 30,
   "id": "c8b909a0-795b-48fa-957c-71c46331132c",
   "metadata": {},
   "outputs": [
    {
     "name": "stdout",
     "output_type": "stream",
     "text": [
      "x = 0.29, y = 0.75 JAX Gradient: [0.83925915 0.5666443 ] Analytical Gradient: [0.83925913 0.56664438] \n",
      "x = 0.27, y = 0.49 JAX Gradient: [0.3779867 0.2650267] Analytical Gradient: [0.37798668 0.26502665] \n",
      "x = 0.38, y = 0.07 JAX Gradient: [0.05351853 0.14985253] Analytical Gradient: [0.05351853 0.14985253] \n",
      "x = 0.57, y = 0.65 JAX Gradient: [0.97220695 1.0088835 ] Analytical Gradient: [0.97220706 1.00888362] \n",
      "x = 0.46, y = 0.88 JAX Gradient: [1.4202347 1.2429802] Analytical Gradient: [1.42023469 1.24298024] \n"
     ]
    }
   ],
   "source": [
    "# A5) Finding gradient using JAX\n",
    "import math\n",
    "import jax.numpy as jnp\n",
    "from jax import grad\n",
    "import numpy as np\n",
    "# Define the function \n",
    "def f(xy):\n",
    "    x, y = xy\n",
    "    return x*x*y + y*y*y*jnp.sin(x)\n",
    "# Use the direct function ti get grad in JAX\n",
    "f_grad = grad(f)\n",
    "\n",
    "x_vals = [0.29, 0.27, 0.38, 0.57, 0.46]\n",
    "y_vals = [0.75, 0.49, 0.07, 0.65, 0.88]\n",
    "# Take the 5 values and get the gradient. \n",
    "for x, y in zip(x_vals, y_vals):\n",
    "    xy = jnp.array([x, y])\n",
    "    jax_gradient = f_grad(xy)\n",
    "    # Analytical solution is obtained from Q4)\n",
    "    analytical_gradient =  np.array([2*x*y + y*y*y*math.cos(x), x*x + 3*y*y*math.sin(x)])\n",
    "    print(f\"x = {x}, y = {y}\", end = ' ')\n",
    "    print(f\"JAX Gradient: {jax_gradient}\", end = ' ')\n",
    "    print(f\"Analytical Gradient: {analytical_gradient}\", end = ' ')\n",
    "    print()\n",
    "\n",
    "# It can be seen from the result that the JAX and analytical gradients are the same. "
   ]
  },
  {
   "cell_type": "raw",
   "id": "2dec3036-a7f0-4333-9428-dba9b296e5a7",
   "metadata": {},
   "source": [
    "Q6) Use sympy to confirm that you obtain the same gradient analytically."
   ]
  },
  {
   "cell_type": "code",
   "execution_count": 36,
   "id": "62ee2333-dc18-4cb0-8562-f13fb3b6a6ca",
   "metadata": {},
   "outputs": [
    {
     "name": "stdout",
     "output_type": "stream",
     "text": [
      "x = 0.29, y = 0.75 Sympy Gradient: [0.839259134981919, 0.566644379864410] Analytical Gradient: [0.83925913 0.56664438] \n",
      "x = 0.27, y = 0.49 Sympy Gradient: [0.377986682186551, 0.265026653846965] Analytical Gradient: [0.37798668 0.26502665] \n",
      "x = 0.38, y = 0.07 Sympy Gradient: [0.0535185319700027, 0.149852530900371] Analytical Gradient: [0.05351853 0.14985253] \n",
      "x = 0.57, y = 0.65 Sympy Gradient: [0.972207055303938, 1.00888362177031] Analytical Gradient: [0.97220706 1.00888362] \n",
      "x = 0.46, y = 0.88 Sympy Gradient: [1.42023468759371, 1.24298024210230] Analytical Gradient: [1.42023469 1.24298024] \n"
     ]
    }
   ],
   "source": [
    "# A6) Using sympy to get analytical solution  \n",
    "import math\n",
    "import jax.numpy as jnp\n",
    "from jax import grad\n",
    "import numpy as np\n",
    "import sympy as sp\n",
    "# Sym variables and function are created\n",
    "x_sym, y_sym = sp.symbols('x y')\n",
    "f_sym = x_sym**2 * y_sym + y_sym**3 * sp.sin(x_sym)\n",
    "grad_f_sym = [sp.diff(f_sym, x_sym), sp.diff(f_sym, y_sym)]\n",
    "\n",
    "x_vals = [0.29, 0.27, 0.38, 0.57, 0.46]\n",
    "y_vals = [0.75, 0.49, 0.07, 0.65, 0.88]\n",
    "# Take the 5 values and get the gradient. \n",
    "for x, y in zip(x_vals, y_vals):\n",
    "    sympy_gradient = [grad_f.evalf(subs={x_sym: x, y_sym: y}) for grad_f in grad_f_sym]\n",
    "    # Analytical solution is obtained from Q4)\n",
    "    analytical_gradient =  np.array([2*x*y + y*y*y*math.cos(x), x*x + 3*y*y*math.sin(x)])\n",
    "    print(f\"x = {x}, y = {y}\", end = ' ')\n",
    "    print(f\"Sympy Gradient: {sympy_gradient}\", end = ' ')\n",
    "    print(f\"Analytical Gradient: {analytical_gradient}\", end = ' ')\n",
    "    print()\n",
    "\n",
    "# It can be seen from the result that the sympy and analytical gradients are the same. "
   ]
  },
  {
   "cell_type": "raw",
   "id": "4219a774-9ee1-4afe-8c19-0a7fee754278",
   "metadata": {},
   "source": [
    "Q7) Create a Python nested dictionary to represent hierarchical information. We want to store record of students and their marks."
   ]
  },
  {
   "cell_type": "code",
   "execution_count": null,
   "id": "9dc2f07d-ae0b-4180-ae5b-cec14a5705e0",
   "metadata": {},
   "outputs": [],
   "source": [
    "#A7) The dictionary contains student records from 3 years 2022, 2023, 2024. Each with 3 branches with 2 students in each branch. \n",
    "students_records = {\n",
    "    2022: {\n",
    "        'Computer Science': {\n",
    "            1: {\n",
    "                'Roll Number': 1,\n",
    "                'Name': 'Arnav Deshpande',\n",
    "                'Marks': {\n",
    "                    'DSA': 85,\n",
    "                    'DM': 69,\n",
    "                    'Calculus': 83\n",
    "                }\n",
    "            },\n",
    "            2: {\n",
    "                'Roll Number': 2,\n",
    "                'Name': 'Arnav Bhalerao',\n",
    "                'Marks': {\n",
    "                    'DSA': 86,\n",
    "                    'DM': 66,\n",
    "                    'Calculus': 75\n",
    "                }\n",
    "            }\n",
    "        },\n",
    "        'Artificial Intelligence': {\n",
    "            3: {\n",
    "                'Roll Number': 3,\n",
    "                'Name': 'Ayush Patil',\n",
    "                'Marks': {\n",
    "                    'SSRP': 95,\n",
    "                    'ML': 65,\n",
    "                    'PDE': 78\n",
    "                }\n",
    "            },\n",
    "            4: {\n",
    "                'Roll Number': 4,\n",
    "                'Name': 'Bhavesh Phundkar',\n",
    "                'Marks': {\n",
    "                    'SSRP': 88,\n",
    "                    'ML': 77,\n",
    "                    'PDE': 82\n",
    "                }\n",
    "            }\n",
    "        },\n",
    "        'Mechanical Engineering':{\n",
    "            5: {\n",
    "                'Roll Number': 5,\n",
    "                'Name': 'Gargi Joshi', \n",
    "                'Marks': {\n",
    "                    'SnD': 88,\n",
    "                    'MoS': 89, \n",
    "                    'PDE': 66\n",
    "                }   \n",
    "            },\n",
    "            6:{\n",
    "                'Roll Number': 6,\n",
    "                'Name': 'Mahi Shitut', \n",
    "                'Marks': {\n",
    "                    'SnD': 84,\n",
    "                    'MoS': 86, \n",
    "                    'PDE': 77\n",
    "                }   \n",
    "            },\n",
    "        }\n",
    "    },\n",
    "    2023: {\n",
    "        'Computer Science': {\n",
    "            7: {\n",
    "                'Roll Number': 1,\n",
    "                'Name': 'Arnav Zhodge',\n",
    "                'Marks': {\n",
    "                    'DSA': 84,\n",
    "                    'DM': 68,\n",
    "                    'Calculus': 82\n",
    "                }\n",
    "            },\n",
    "            8: {\n",
    "                'Roll Number': 2,\n",
    "                'Name': 'Arnav Ketkar',\n",
    "                'Marks': {\n",
    "                    'DSA': 85,\n",
    "                    'DM': 65,\n",
    "                    'Calculus': 74\n",
    "                }\n",
    "            }\n",
    "        }\n",
    "    },\n",
    "    2024: {\n",
    "        'Computer Science': {\n",
    "            13: {\n",
    "                'Roll Number': 1,\n",
    "                'Name': 'Arnav Gogate',\n",
    "                'Marks': {\n",
    "                    'DSA': 86,\n",
    "                    'DM': 70,\n",
    "                    'Calculus': 84\n",
    "                }\n",
    "            },\n",
    "            14: {\n",
    "                'Roll Number': 2,\n",
    "                'Name': 'Arnav Jagtap',\n",
    "                'Marks': {\n",
    "                    'DSA': 87,\n",
    "                    'DM': 67,\n",
    "                    'Calculus': 76\n",
    "                }\n",
    "            }\n",
    "        }\n",
    "    }\n",
    "}"
   ]
  },
  {
   "cell_type": "raw",
   "id": "93cf757c-cd0b-4ad1-b3cf-2456e3c6318e",
   "metadata": {},
   "source": [
    "Q8) Store the same information using Python classes. We have an overall database which is a list of year objects. Each year contains a list of branches. Each branch contains a list of students. Each student has some properties like name, roll number and has marks in some subjects."
   ]
  },
  {
   "cell_type": "code",
   "execution_count": null,
   "id": "5e32065f-09a5-49be-bea4-bd0a44676f0c",
   "metadata": {},
   "outputs": [],
   "source": [
    "# A8)\n",
    "class Student:\n",
    "    def __init__(self, roll_number, name, marks):\n",
    "        self.roll_number = roll_number\n",
    "        self.name = name\n",
    "        self.marks = marks\n",
    "\n",
    "    def __repr__(self):\n",
    "        return f\"Student(Roll Number: {self.roll_number}, Name: {self.name}, Marks: {self.marks})\"\n",
    "\n",
    "class Branch:\n",
    "    def __init__(self, name):\n",
    "        self.name = name\n",
    "        self.students = []\n",
    "\n",
    "    def add_student(self, student):\n",
    "        self.students.append(student)\n",
    "\n",
    "    def __repr__(self):\n",
    "        return f\"Branch(Name: {self.name}, Students: {self.students})\"\n",
    "\n",
    "class Year:\n",
    "    def __init__(self, year):\n",
    "        self.year = year\n",
    "        self.branches = []\n",
    "\n",
    "    def add_branch(self, branch):\n",
    "        self.branches.append(branch)\n",
    "\n",
    "    def __repr__(self):\n",
    "        return f\"Year(Year: {self.year}, Branches: {self.branches})\"\n",
    "\n",
    "class Database:\n",
    "    def __init__(self):\n",
    "        self.years = []\n",
    "\n",
    "    def add_year(self, year):\n",
    "        self.years.append(year)\n",
    "\n",
    "    def __repr__(self):\n",
    "        return f\"Database(Years: {self.years})\"\n",
    "\n",
    "# Creating database for year 2022\n",
    "year_2022 = Year(2022)\n",
    "branch_1_2022 = Branch('Computer Science')\n",
    "branch_1_2022.add_student(Student(1, 'Arnav Deshoande', {'DSA': 85, 'DM': 69, 'Calculus': 83}))\n",
    "branch_1_2022.add_student(Student(2, 'Arnav Bhalerao', {'DSA': 86, 'DM': 66, 'Calculus': 75}))\n",
    "\n",
    "branch_2_2022 = Branch('Artificual Intelligence')\n",
    "branch_2_2022.add_student(Student(3, 'Ayush Patil', {'SSRP': 95, 'ML': 65, 'PDE': 78}))\n",
    "branch_2_2022.add_student(Student(4, 'Bhavesh Phundkar', {'SSRP': 88, 'ML': 77, 'PDE': 82}))\n",
    "\n",
    "branch_3_2022 = Branch('Mechanical Engineering')\n",
    "branch_3_2022.add_student(Student(5, 'Gargi Joshi', {'SnD': 88, 'MoS': 89, 'PDE': 66}))\n",
    "branch_3_2022.add_student(Student(6, 'Mahi Shitut', {'SnD': 84, 'MoS': 86, 'PDE': 77}))\n",
    "\n",
    "year_2022.add_branch(branch_1_2022)\n",
    "year_2022.add_branch(branch_2_2022)\n",
    "year_2022.add_branch(branch_3_2022)\n",
    "\n",
    "database.add_year(year_2022)\n",
    "\n",
    "# Creating database for year 2023\n",
    "year_2023 = Year(2023)\n",
    "branch_1_2023 = Branch('Computer Science')\n",
    "branch_1_2023.add_student(Student(1, 'Arnav Zhodge', {'DSA': 84, 'DM': 68, 'Calculus': 82}))\n",
    "branch_1_2023.add_student(Student(2, 'Arnav Ketkar', {'DSA': 85, 'DM': 65, 'Calculus': 74}))\n",
    "\n",
    "year_2023.add_branch(branch_1_2023)\n",
    "\n",
    "database.add_year(year_2023)\n",
    "\n",
    "# Creating database for year 2024\n",
    "year_2024 = Year(2024)\n",
    "branch_1_2024 = Branch('Computer Science')\n",
    "branch_1_2024.add_student(Student(1, 'Arnav Gogate', {'DSA': 86, 'DM': 70, 'Calculus': 84}))\n",
    "branch_1_2024.add_student(Student(2, 'Arnav Jagtap', {'DSA': 87, 'DM': 67, 'Calculus': 76}))\n",
    "\n",
    "year_2024.add_branch(branch_1_2024)\n",
    "\n",
    "database.add_year(year_2024)"
   ]
  },
  {
   "cell_type": "raw",
   "id": "7ad44041-6faa-414d-8cf3-8c3e30061f33",
   "metadata": {},
   "source": [
    "Q9) Using matplotlib plot the following functions on the domain: x = 0.5 to 100.0 in steps of 0.5."
   ]
  },
  {
   "cell_type": "code",
   "execution_count": 46,
   "id": "c95d44c1-3f6e-4e04-820d-33f7bd57ed2b",
   "metadata": {},
   "outputs": [
    {
     "data": {
      "image/png": "[encoded data removed]",
      "text/plain": [
       "<Figure size 1000x600 with 1 Axes>"
      ]
     },
     "metadata": {},
     "output_type": "display_data"
    }
   ],
   "source": [
    "# A9)\n",
    "import math\n",
    "import numpy as np\n",
    "import matplotlib.pyplot as plt\n",
    "# Declaring the gaps betweens points and the seven functionc\n",
    "x = np.arange(0.5, 100.0, 0.5)\n",
    "y1 = x\n",
    "y2 = x**2\n",
    "y3 = x**3/100\n",
    "y4 = np.sin(x)\n",
    "y5 = (np.sin(x))/x\n",
    "y6 = np.log(x)\n",
    "y7 = np.exp(x)\n",
    "# Plotting all the figures\n",
    "plt.figure(figsize=(10, 6))\n",
    "plt.plot(x, y1, label='y = x')\n",
    "plt.plot(x, y2, label='y = x^2')\n",
    "plt.plot(x, y3, label='y = x^3 / 100')\n",
    "plt.plot(x, y4, label='y = sin(x)')\n",
    "plt.plot(x, y5, label='y = sin(x) / x')\n",
    "plt.plot(x, y6, label='y = log(x)')\n",
    "plt.plot(x, y7, label='y = e^x')\n",
    "plt.title('Plot of 7 different functions')\n",
    "plt.xlabel('x')\n",
    "plt.ylabel('y')\n",
    "plt.legend()\n",
    "\n",
    "plt.grid(True)\n",
    "# Marking x and y axis limits\n",
    "plt.xlim(0, 10)\n",
    "plt.ylim(-2, 20)\n",
    "plt.show()"
   ]
  },
  {
   "cell_type": "raw",
   "id": "768ea37b-9600-43af-84c5-9e45e0a14917",
   "metadata": {},
   "source": [
    "Q10) Using numpy generate a matrix of size 20X5 containing random numbers drawn uniformly from the range of 1 to 2. Using Pandas create a dataframe out of this matrix. Name the columns of the dataframe as “a”, “b”, “c”, “d”, “e”. Find the column with the highest standard deviation. Find the row with the lowest mean."
   ]
  },
  {
   "cell_type": "code",
   "execution_count": 59,
   "id": "afd457dc-1af2-4030-84ea-8bf8357d66bd",
   "metadata": {},
   "outputs": [
    {
     "name": "stdout",
     "output_type": "stream",
     "text": [
      "Column with max standard deviation is column d\n",
      "Column with min mean is row 17\n"
     ]
    }
   ],
   "source": [
    "# A10) \n",
    "import numpy as np \n",
    "import pandas as pd\n",
    "# Creating random matrix\n",
    "matrix = np.random.uniform(1, 2, size = (20, 5))\n",
    "# Declaring matrix as dataframe\n",
    "df = pd.DataFrame(matrix)\n",
    "# Giving the columns names\n",
    "df.columns = ['a', 'b', 'c', 'd', 'e']\n",
    "# Making a column containing all standard deviations of all columns and find id of max\n",
    "dev = df.std()\n",
    "max_col = dev.idxmax()\n",
    "print(f\"Column with max standard deviation is column {max_col}\")\n",
    "# Making a column having mean of all rows and find the max\n",
    "means = df.mean(axis=1)\n",
    "min_row = means.idxmin()\n",
    "print(f\"Column with min mean is row {min_row}\")"
   ]
  },
  {
   "cell_type": "raw",
   "id": "e2469cef-3750-4597-a276-baf72eb990d6",
   "metadata": {},
   "source": [
    "Q11) Add a new column to the dataframe called “f” which is the sum of the columns “a”, “b”, “c”, “d”, “e”. Create another column called “g”. The value in the column “g” should be “LT8” if the value in the column “f” is less than 8 and “GT8” otherwise. Find the number of rows in the dataframe where the value in the column “g” is “LT8”. Find the standard deviation of the column “f” for the rows where the value in the column “g” is “LT8” and “GT8” respectively."
   ]
  },
  {
   "cell_type": "code",
   "execution_count": 63,
   "id": "e9134fb4-996f-496f-a9e6-4fc7481235e9",
   "metadata": {},
   "outputs": [
    {
     "name": "stdout",
     "output_type": "stream",
     "text": [
      "The number of rows in the dataframe where the value in the column g is LT8 is 17\n",
      "The standard deviation in column f for the rows where the value in the column g is LT8 is 0.4231527796727387\n",
      "The standard deviation in column f for the rows where the value in the column g is GT8 is 0.348529057900338\n"
     ]
    }
   ],
   "source": [
    "# A11)\n",
    "# Creating a new column f which has sum of the first 5 columns\n",
    "df['f'] = df[['a', 'b', 'c', 'd', 'e']].sum(axis = 1)\n",
    "# Creating a column ehich contains whether value in f greater or less than 8\n",
    "df['g'] = np.where(df['f'] < 8, 'LT8', 'GT8')\n",
    "# Finding number of rows with mean less than 8\n",
    "total_LT8 = (df['g'] == 'LT8').sum()\n",
    "# Finding the standard deviation of rows with mean less than 8 and greater than 8\n",
    "std_LT8 = df[df['g'] == 'LT8']['f'].std()\n",
    "std_GT8 = df[df['g'] == 'GT8']['f'].std()\n",
    "\n",
    "print(f\"The number of rows in the dataframe where the value in the column g is LT8 is {total_LT8}\")\n",
    "print(f\"The standard deviation in column f for the rows where the value in the column g is LT8 is {std_LT8}\")\n",
    "print(f\"The standard deviation in column f for the rows where the value in the column g is GT8 is {std_GT8}\")\n",
    "\n"
   ]
  },
  {
   "cell_type": "raw",
   "id": "1a0b9232-307c-414e-80d2-df71c308d6e8",
   "metadata": {},
   "source": [
    "Q12) Write a small piece of code to explain broadcasting in numpy."
   ]
  },
  {
   "cell_type": "code",
   "execution_count": 65,
   "id": "f5b6a76c-a64f-4bc3-8b16-41bf6cffe4bf",
   "metadata": {},
   "outputs": [
    {
     "name": "stdout",
     "output_type": "stream",
     "text": [
      "[[ 2  5  8 11]\n",
      " [ 6  9 12 15]]\n",
      "[[ 2  5  8 11]\n",
      " [ 6  9 12 15]]\n"
     ]
    }
   ],
   "source": [
    "#A12) Broadcasting is the process which numpy does to perform arithmetic operations on arrays of different sizes. The smaller array is 'stretched' \n",
    "# across the larger array so that the arithmetic opertaion becomes compatible. \n",
    "# For example, \n",
    "a = np.array([[1,2,3,4], [5,6,7,8]])\n",
    "b = np.array([1,3,5,7])\n",
    "b2 = [[1,3,5,7], [1,3,5,7]]\n",
    "sum = a + b\n",
    "sum2 = a + b2\n",
    "print(sum)\n",
    "print(sum2)\n",
    "# By looking at the sum we can tell that the row b was added individually to both rows of a and b. \n",
    "# Effectively, numpy converts the array b into the array b = [[1,3,5,7], [1,3,5,7]] and then the addition operation becomes compatible and we get the result.\n",
    "# We can clearly see this as a + b2 is also equal to the same result. "
   ]
  },
  {
   "cell_type": "raw",
   "id": "36db6e45-8296-44ef-b057-a8271534ab2d",
   "metadata": {},
   "source": [
    "Q13) Write a function to compute the argmin of a numpy array. The function should take a numpy array as input and return the index of the minimum element. You can use the np.argmin function to verify your solution."
   ]
  },
  {
   "cell_type": "code",
   "execution_count": 70,
   "id": "a4334e38-8638-4763-8d30-c7e78287dd6a",
   "metadata": {},
   "outputs": [
    {
     "name": "stdout",
     "output_type": "stream",
     "text": [
      "7\n",
      "7\n"
     ]
    }
   ],
   "source": [
    "# A13) \n",
    "# Creating an numpy array\n",
    "arr = np.array([-1,1,-2,3,4,5,5,-6])\n",
    "# Go linearly through the array and note the min and the min index of the array and return min index after traversing through the whole array\n",
    "def argmin(array):\n",
    "    min = array[0]\n",
    "    min_index = 0\n",
    "    for i in range(len(array)):\n",
    "        if array[i] < min:\n",
    "            min = array[i]\n",
    "            min_index = i\n",
    "\n",
    "    return min_index\n",
    "\n",
    "print(argmin(arr))\n",
    "result = np.argmin(arr)\n",
    "print(result)"
   ]
  }
 ],
 "metadata": {
  "kernelspec": {
   "display_name": "Python 3 (ipykernel)",
   "language": "python",
   "name": "python3"
  },
  "language_info": {
   "codemirror_mode": {
    "name": "ipython",
    "version": 3
   },
   "file_extension": ".py",
   "mimetype": "text/x-python",
   "name": "python",
   "nbconvert_exporter": "python",
   "pygments_lexer": "ipython3",
   "version": "3.11.5"
  }
 },
 "nbformat": 4,
 "nbformat_minor": 5
}
